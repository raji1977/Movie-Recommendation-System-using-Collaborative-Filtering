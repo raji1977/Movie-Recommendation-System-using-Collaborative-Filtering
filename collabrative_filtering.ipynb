{
  "nbformat": 4,
  "nbformat_minor": 0,
  "metadata": {
    "colab": {
      "provenance": []
    },
    "kernelspec": {
      "name": "python3",
      "display_name": "Python 3"
    },
    "language_info": {
      "name": "python"
    }
  },
  "cells": [
    {
      "cell_type": "code",
      "execution_count": null,
      "metadata": {
        "colab": {
          "base_uri": "https://localhost:8080/"
        },
        "id": "6EwPeohdHQzD",
        "outputId": "6db8268b-5eb2-4064-efb7-693aa7174c0e"
      },
      "outputs": [
        {
          "output_type": "stream",
          "name": "stdout",
          "text": [
            "\n",
            "Top 5 Recommendations for User 100:\n",
            "\n",
            "title\n",
            "Cop Land (1997)                 12.494812\n",
            "Devil's Advocate, The (1997)    11.330446\n",
            "Edge, The (1997)                10.140343\n",
            "Alien: Resurrection (1997)       8.367077\n",
            "Murder at 1600 (1997)            8.176302\n",
            "dtype: float64\n"
          ]
        }
      ],
      "source": [
        "import pandas as pd\n",
        "import numpy as np\n",
        "from sklearn.metrics.pairwise import cosine_similarity\n",
        "import warnings\n",
        "warnings.filterwarnings('ignore')\n",
        "\n",
        "# Step 2: Load Dataset\n",
        "def load_data():\n",
        "    ratings_url = 'https://files.grouplens.org/datasets/movielens/ml-100k/u.data'\n",
        "    movies_url = 'https://files.grouplens.org/datasets/movielens/ml-100k/u.item'\n",
        "\n",
        "    ratings = pd.read_csv(ratings_url, sep='\\t', names=['user_id', 'item_id', 'rating', 'timestamp'])\n",
        "    movies = pd.read_csv(movies_url, sep='|', encoding='latin-1', usecols=[0, 1], names=['item_id', 'title'])\n",
        "\n",
        "    return pd.merge(ratings, movies, on='item_id')\n",
        "\n",
        "df = load_data()\n",
        "\n",
        "# Step 3: Create User-Item Matrix\n",
        "def create_user_item_matrix(df):\n",
        "    user_item = df.pivot_table(index='user_id', columns='title', values='rating')\n",
        "    user_item.fillna(0, inplace=True)\n",
        "    return user_item\n",
        "\n",
        "user_item_matrix = create_user_item_matrix(df)\n",
        "\n",
        "# Step 4: Compute Cosine Similarity\n",
        "def calculate_user_similarity(user_item_matrix):\n",
        "    similarity_matrix = cosine_similarity(user_item_matrix)\n",
        "    return pd.DataFrame(similarity_matrix, index=user_item_matrix.index, columns=user_item_matrix.index)\n",
        "\n",
        "user_similarity_df = calculate_user_similarity(user_item_matrix)\n",
        "\n",
        "# Step 5: Get Top-N Similar Users\n",
        "def get_top_similar_users(user_id, similarity_df, top_n=5):\n",
        "    similar_users = similarity_df[user_id].sort_values(ascending=False).drop(user_id)\n",
        "    return similar_users.head(top_n)\n",
        "\n",
        "# Step 6: Recommend Movies\n",
        "def recommend_movies(user_id, user_item_matrix, similarity_df, top_n=5, num_recommendations=5):\n",
        "    similar_users = get_top_similar_users(user_id, similarity_df, top_n)\n",
        "    # Initialize weighted_scores with zeros for all movies\n",
        "    weighted_scores = pd.Series(0, index=user_item_matrix.columns, dtype='float64')\n",
        "\n",
        "    for sim_user, sim_score in similar_users.items():\n",
        "        weighted_scores = weighted_scores.add(user_item_matrix.loc[sim_user] * sim_score, fill_value=0)\n",
        "\n",
        "    watched = user_item_matrix.loc[user_id]\n",
        "    watched = watched[watched > 0].index\n",
        "    weighted_scores = weighted_scores.drop(watched, errors='ignore')\n",
        "\n",
        "    return weighted_scores.sort_values(ascending=False).head(num_recommendations)\n",
        "\n",
        "# Step 7: Run the Recommendation System\n",
        "test_user = 100\n",
        "recommendations = recommend_movies(test_user, user_item_matrix, user_similarity_df, top_n=5, num_recommendations=5)\n",
        "\n",
        "print(f\"\\nTop 5 Recommendations for User {test_user}:\\n\")\n",
        "print(recommendations)\n"
      ]
    }
  ]
}